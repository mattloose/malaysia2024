{
 "cells": [
  {
   "cell_type": "markdown",
   "id": "97bc310e",
   "metadata": {},
   "source": [
    "# Variant Calling with ONT data"
   ]
  },
  {
   "cell_type": "markdown",
   "id": "addcb39d",
   "metadata": {},
   "source": [
    "Here we will consider the use of clair3 for variant calling with Oxford Nanopore Data.\n",
    "\n",
    "Clair3 is available from https://github.com/HKU-BAL/Clair3"
   ]
  },
  {
   "cell_type": "markdown",
   "id": "5140d28e",
   "metadata": {},
   "source": [
    "The data we will use are derived from the 1000 genomes collection and have been sequenced in different ways.\n"
   ]
  },
  {
   "cell_type": "markdown",
   "id": "0ad65b2e",
   "metadata": {},
   "source": [
    "First we need to set up our notebooks to make them look pretty!"
   ]
  },
  {
   "cell_type": "code",
   "execution_count": null,
   "id": "e25fae6d",
   "metadata": {},
   "outputs": [],
   "source": [
    "#This hides some warnings that we might want to look at one day if our code doesn't work!\n",
    "from IPython.display import display, HTML\n",
    "display(HTML(\"<style>.container { width:100% !important; }</style>\"))\n",
    "import igv_notebook\n",
    "igv_notebook.init()\n",
    "import warnings\n",
    "warnings.filterwarnings('ignore', category=DeprecationWarning)"
   ]
  },
  {
   "cell_type": "code",
   "execution_count": null,
   "id": "fb4ac28f",
   "metadata": {},
   "outputs": [],
   "source": [
    "#These are various graph plotting and data processing tools we may use.\n",
    "from bokeh.io import output_notebook\n",
    "from bokeh.plotting import figure, show\n",
    "import numpy as np\n",
    "import pandas as pd\n",
    "\n",
    "\n",
    "#This is a nice plotting library that will also do some pretty graphics for us.\n",
    "import aplanat\n",
    "from aplanat import points\n",
    "from aplanat import graphics\n",
    "from aplanat.hist import histogram\n",
    "from aplanat.lines import steps\n",
    "from bokeh.layouts import gridplot\n",
    "\n",
    "\n",
    "#A library to manipuate sam files\n",
    "import pysam\n",
    "\n"
   ]
  },
  {
   "cell_type": "markdown",
   "id": "d7aecf50",
   "metadata": {},
   "source": [
    "Here are three samples - you can choose which one to look at and work through the notebook."
   ]
  },
  {
   "cell_type": "code",
   "execution_count": null,
   "id": "54db3304",
   "metadata": {},
   "outputs": [],
   "source": [
    "sampleA = \"../student_projects_2022/data/malaysia_23/HG01280_P1_hg38.bam\"\n",
    "sampleAindex = \"../student_projects_2022/data/malaysia_23/HG01280_P1_hg38.bam.bai\"\n",
    "sampleB = \"../student_projects_2022/data/malaysia_23/GM18871.subset.bam\"\n",
    "sampleBindex = \"../student_projects_2022/data/malaysia_23/GM18871.subset.bam.bai\"\n",
    "sampleC = \"../student_projects_2022/data/malaysia_23/HG01280_P2_hg38.bam\"\n",
    "sampleCindex = \"../student_projects_2022/data/malaysia_23/HG01280_P2_hg38.bam.bai\""
   ]
  },
  {
   "cell_type": "markdown",
   "id": "0796ba84",
   "metadata": {},
   "source": [
    "First lets download these files and have a look at them in IGV.\n"
   ]
  },
  {
   "cell_type": "code",
   "execution_count": null,
   "id": "9d6159da",
   "metadata": {},
   "outputs": [],
   "source": [
    "from IPython.display import FileLink\n",
    "filename=\"merge_output.vcf.gz\"\n",
    "FileLink(sampleA)\n",
    "\n"
   ]
  },
  {
   "cell_type": "code",
   "execution_count": null,
   "id": "0f74ebfd",
   "metadata": {},
   "outputs": [],
   "source": [
    "FileLink(sampleAindex)"
   ]
  },
  {
   "cell_type": "code",
   "execution_count": null,
   "id": "6540d2c6",
   "metadata": {},
   "outputs": [],
   "source": [
    "FileLink(sampleB)\n"
   ]
  },
  {
   "cell_type": "code",
   "execution_count": null,
   "id": "2ef67691",
   "metadata": {},
   "outputs": [],
   "source": [
    "FileLink(sampleBindex)"
   ]
  },
  {
   "cell_type": "code",
   "execution_count": null,
   "id": "4e51e63e",
   "metadata": {},
   "outputs": [],
   "source": [
    "FileLink(sampleC)"
   ]
  },
  {
   "cell_type": "code",
   "execution_count": null,
   "id": "955cf5b7",
   "metadata": {},
   "outputs": [],
   "source": [
    "FileLink(sampleCindex)"
   ]
  },
  {
   "cell_type": "markdown",
   "id": "18cf2d2e",
   "metadata": {},
   "source": [
    "To look at these, download all 6 files and then we will upload them to webigv."
   ]
  },
  {
   "cell_type": "markdown",
   "id": "b80cdef3",
   "metadata": {},
   "source": [
    "https://igv.org/app/"
   ]
  },
  {
   "cell_type": "markdown",
   "id": "b7761aae",
   "metadata": {},
   "source": [
    "We are going to look at the specific coordinates in the bam file below:"
   ]
  },
  {
   "cell_type": "code",
   "execution_count": null,
   "id": "245f9827",
   "metadata": {},
   "outputs": [],
   "source": [
    "!cat quick_demo.bed"
   ]
  },
  {
   "cell_type": "markdown",
   "id": "2180cd47",
   "metadata": {},
   "source": [
    "Choose the sample you want to look at by setting sample1 equal to sampleA or sampleB or sampleC."
   ]
  },
  {
   "cell_type": "code",
   "execution_count": null,
   "id": "ad538f9a",
   "metadata": {},
   "outputs": [],
   "source": [
    "sample1 = sampleB"
   ]
  },
  {
   "cell_type": "markdown",
   "id": "5f2d7b3f",
   "metadata": {},
   "source": [
    "First lets look at the header of the BAM file to work out what it is telling us."
   ]
  },
  {
   "cell_type": "code",
   "execution_count": null,
   "id": "fed1e58b",
   "metadata": {},
   "outputs": [],
   "source": [
    "!samtools view -H {sample1}"
   ]
  },
  {
   "cell_type": "markdown",
   "id": "9fa6e370",
   "metadata": {},
   "source": [
    "Lets generate some information about our data."
   ]
  },
  {
   "cell_type": "code",
   "execution_count": null,
   "id": "d8ce8993",
   "metadata": {},
   "outputs": [],
   "source": [
    "# run the alignment summarizer program\n",
    "!stats_from_bam {sample1} > {sample1}.bam.stats\n",
    "\n",
    "\n",
    "df = pd.read_csv(f\"{sample1}.bam.stats\", sep=\"\\t\")\n",
    "\n",
    "p1 = histogram(\n",
    "    [df['read_length']], title=\"Read lengths\",\n",
    "    x_axis_label=\"read length / bases\", y_axis_label=\"count\")\n",
    "p1.xaxis.formatter.use_scientific = False\n",
    "p2 = histogram(\n",
    "    [df['acc']], title=\"Read accuracy\",\n",
    "    x_axis_label=\"% accuracy\", y_axis_label=\"count\")\n",
    "aplanat.show(gridplot((p1, p2), ncols=2))"
   ]
  },
  {
   "cell_type": "code",
   "execution_count": null,
   "id": "d873ec99",
   "metadata": {},
   "outputs": [],
   "source": [
    "summary = graphics.InfoGraphItems()\n",
    "summary.append(label='Total reads', value=len(df.name.unique()), icon='angle-up', unit='')\n",
    "summary.append('Total yield', df.read_length.sum(), 'signal', 'b')\n",
    "summary.append('Mean read length', df.read_length.sum()/len(df.name.unique()), 'align-center', 'b')\n",
    "summary.append('Mean read identity', df.iden.mean(), 'thumbs-up')\n",
    "summary.append('Mean read accuracy', df.acc.mean(), 'thumbs-up')\n",
    "plot = graphics.infographic(summary.values())\n",
    "aplanat.show(plot, background='#f4f4f4')"
   ]
  },
  {
   "cell_type": "markdown",
   "id": "63d7c44e",
   "metadata": {},
   "source": [
    "As you can see we have a small subset of data and not a full human genome!"
   ]
  },
  {
   "cell_type": "markdown",
   "id": "1bd3e1e0",
   "metadata": {},
   "source": [
    "Now we need to set up some parameters and configure clair3 for analysis. Because clair3 is a neural network it has been trained to expect specific characteristics in the data. One characteristic is how the data were base called - so we need to tell it the \"model\"."
   ]
  },
  {
   "cell_type": "markdown",
   "id": "e7c75813",
   "metadata": {},
   "source": [
    "For R9 data the model is r941_prom_sup_g5014 - for R10 data the model is r1041_e82_400bps_sup_v420"
   ]
  },
  {
   "cell_type": "code",
   "execution_count": null,
   "id": "76d618ec",
   "metadata": {},
   "outputs": [],
   "source": [
    "MODEL_NAME=\"r1041_e82_400bps_sup_v420\""
   ]
  },
  {
   "cell_type": "code",
   "execution_count": null,
   "id": "4cac1f07",
   "metadata": {},
   "outputs": [],
   "source": [
    "PLATFORM=\"ont\""
   ]
  },
  {
   "cell_type": "code",
   "execution_count": null,
   "id": "e2622295",
   "metadata": {},
   "outputs": [],
   "source": [
    "BAM=sample1"
   ]
  },
  {
   "cell_type": "code",
   "execution_count": null,
   "id": "3cbe5589",
   "metadata": {},
   "outputs": [],
   "source": [
    "REF=\"../student_projects_2022/data/refs/hg38_chr2_7/chr7.hg38.fasta.gz\""
   ]
  },
  {
   "cell_type": "code",
   "execution_count": null,
   "id": "579eef47",
   "metadata": {},
   "outputs": [],
   "source": [
    "CONTIGS=\"chr7\""
   ]
  },
  {
   "cell_type": "code",
   "execution_count": null,
   "id": "95ca6d0c",
   "metadata": {},
   "outputs": [],
   "source": [
    "START_POS=99500000"
   ]
  },
  {
   "cell_type": "code",
   "execution_count": null,
   "id": "4af0cacd",
   "metadata": {},
   "outputs": [],
   "source": [
    "END_POS=100000000"
   ]
  },
  {
   "cell_type": "code",
   "execution_count": null,
   "id": "39a3cceb",
   "metadata": {},
   "outputs": [],
   "source": [
    "!echo -e \"$CONTIGS\\t$START_POS\\t$END_POS\" > quick_demo.bed"
   ]
  },
  {
   "cell_type": "code",
   "execution_count": null,
   "id": "9acaeb5b",
   "metadata": {},
   "outputs": [],
   "source": [
    "THREADS=8"
   ]
  },
  {
   "cell_type": "code",
   "execution_count": null,
   "id": "6c0b9078",
   "metadata": {},
   "outputs": [],
   "source": [
    "!run_clair3.sh \\\n",
    "  --bam_fn=$BAM \\\n",
    "  --ref_fn=$REF \\\n",
    "  --threads=$THREADS \\\n",
    "  --platform=$PLATFORM \\\n",
    "  --model_path=/opt/tljh/user/bin/models/$PLATFORM \\\n",
    "  --output=. \\\n",
    "  --bed_fn=quick_demo.bed"
   ]
  },
  {
   "cell_type": "code",
   "execution_count": null,
   "id": "7bf8b8a3",
   "metadata": {},
   "outputs": [],
   "source": [
    "!zcat merge_output.vcf.gz\n"
   ]
  },
  {
   "cell_type": "markdown",
   "id": "666effee",
   "metadata": {},
   "source": [
    "Now we wish to determine if any of these variants are clinically significant.\n"
   ]
  },
  {
   "cell_type": "code",
   "execution_count": null,
   "id": "d3123267",
   "metadata": {},
   "outputs": [],
   "source": [
    "from IPython.display import FileLink\n",
    "filename=\"merge_output.vcf.gz\"\n",
    "FileLink(filename)"
   ]
  },
  {
   "cell_type": "markdown",
   "id": "f3217278",
   "metadata": {},
   "source": [
    "We can attempt to annotate this file by using the ENSEMBL Variant Effect Predictor Tool - download the VCF and upload it to https://www.ensembl.org/Homo_sapiens/Tools/VEP"
   ]
  },
  {
   "cell_type": "markdown",
   "id": "7532cf86",
   "metadata": {},
   "source": [
    "We will attempt to run some local annotation as well!"
   ]
  },
  {
   "cell_type": "code",
   "execution_count": null,
   "id": "f194c037",
   "metadata": {},
   "outputs": [],
   "source": [
    "!snpEff"
   ]
  },
  {
   "cell_type": "code",
   "execution_count": null,
   "id": "83bc7754",
   "metadata": {},
   "outputs": [],
   "source": [
    "import os\n",
    "dblocation = os.path.abspath(\"../student_projects_2022/data/snpdbs/\")\n"
   ]
  },
  {
   "cell_type": "code",
   "execution_count": null,
   "id": "7d8e2a04",
   "metadata": {},
   "outputs": [],
   "source": [
    "!java -Xmx8g -jar /opt/tljh/user/share/snpeff-5.2-0/snpEff.jar -nodownload -dataDir $dblocation hg38kg merge_output.vcf.gz > merge_output.ann.vcf"
   ]
  },
  {
   "cell_type": "code",
   "execution_count": null,
   "id": "a5c0df4a",
   "metadata": {},
   "outputs": [],
   "source": []
  },
  {
   "cell_type": "code",
   "execution_count": null,
   "id": "6c3447ce",
   "metadata": {
    "scrolled": true
   },
   "outputs": [],
   "source": [
    "!cat merge_output.ann.vcf"
   ]
  },
  {
   "cell_type": "code",
   "execution_count": null,
   "id": "a14eb686",
   "metadata": {},
   "outputs": [],
   "source": [
    "!!java -Xmx8g -jar /opt/tljh/user/share/snpsift-5.2-0/SnpSift.jar annotate $dblocation/clinvar.vcf.gz merge_output.ann.vcf > merge_output.ann.clinvar.vcf\n"
   ]
  },
  {
   "cell_type": "code",
   "execution_count": null,
   "id": "a66364b0",
   "metadata": {},
   "outputs": [],
   "source": [
    "!cat merge_output.ann.clinvar.vcf | grep CYP"
   ]
  },
  {
   "cell_type": "markdown",
   "id": "41874bb5",
   "metadata": {},
   "source": [
    "To investigate this file we need to filter down to clinically significant variants - we can do that as follows:"
   ]
  },
  {
   "cell_type": "code",
   "execution_count": null,
   "id": "5dfa885b",
   "metadata": {},
   "outputs": [],
   "source": [
    "!cat merge_output.ann.clinvar.vcf \\\n",
    "    | java -jar /opt/tljh/user/share/snpsift-5.2-0/SnpSift.jar filter \\\n",
    "    \"(exists CLNSIG)\" \\\n",
    "    > merge_output.ann.clinvar.filtered.vcf"
   ]
  },
  {
   "cell_type": "code",
   "execution_count": null,
   "id": "18b4425e",
   "metadata": {},
   "outputs": [],
   "source": [
    "!cat merge_output.ann.clinvar.filtered.vcf"
   ]
  },
  {
   "cell_type": "markdown",
   "id": "11e7501d",
   "metadata": {},
   "source": [
    "This pipeline is essentially what is run in epi2me-labs - which we will also look at."
   ]
  },
  {
   "cell_type": "code",
   "execution_count": null,
   "id": "31f6b521",
   "metadata": {},
   "outputs": [],
   "source": []
  },
  {
   "cell_type": "code",
   "execution_count": null,
   "id": "519c1cb0",
   "metadata": {},
   "outputs": [],
   "source": []
  }
 ],
 "metadata": {
  "kernelspec": {
   "display_name": "Python 3 (ipykernel)",
   "language": "python",
   "name": "python3"
  },
  "language_info": {
   "codemirror_mode": {
    "name": "ipython",
    "version": 3
   },
   "file_extension": ".py",
   "mimetype": "text/x-python",
   "name": "python",
   "nbconvert_exporter": "python",
   "pygments_lexer": "ipython3",
   "version": "3.9.0"
  }
 },
 "nbformat": 4,
 "nbformat_minor": 5
}
