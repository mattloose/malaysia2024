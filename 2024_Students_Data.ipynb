{
 "cells": [
  {
   "cell_type": "markdown",
   "id": "b538265b",
   "metadata": {},
   "source": [
    "# Introduction\n",
    "\n",
    "As before we need to set up our notebook with the relevant code for analysis of our data.\n",
    "\n",
    "This first cell is just to make it look pretty!"
   ]
  },
  {
   "cell_type": "code",
   "execution_count": null,
   "id": "2cbfc74b",
   "metadata": {},
   "outputs": [],
   "source": [
    "from IPython.display import display, HTML\n",
    "display(HTML(\"<style>.container { width:100% !important; }</style>\"))\n",
    "import igv_notebook\n",
    "igv_notebook.init()"
   ]
  },
  {
   "cell_type": "markdown",
   "id": "e5abb23a",
   "metadata": {},
   "source": [
    "This cell is setting up the various libraries we will need to analyse our data."
   ]
  },
  {
   "cell_type": "code",
   "execution_count": null,
   "id": "2fd3734e",
   "metadata": {},
   "outputs": [],
   "source": [
    "#This hides some warnings that we might want to look at one day if our code doesn't work!\n",
    "import warnings\n",
    "warnings.filterwarnings('ignore', category=DeprecationWarning)\n",
    "import os\n",
    "user = os.getenv('JUPYTERHUB_USER')\n",
    "\n",
    "#These are various graph plotting and data processing tools we may use.\n",
    "from bokeh.io import output_notebook\n",
    "from bokeh.plotting import figure, show\n",
    "import numpy as np\n",
    "import pandas as pd\n",
    "\n",
    "\n",
    "#This is a nice plotting library that will also do some pretty graphics for us.\n",
    "import aplanat\n",
    "from aplanat import points\n",
    "from aplanat import graphics\n",
    "from aplanat.hist import histogram\n",
    "from aplanat.lines import steps\n",
    "from bokeh.layouts import gridplot\n",
    "\n",
    "\n",
    "#A library to manipulate sam files\n",
    "import pysam\n",
    "#This hides some warnings that we might want to look at one day if our code doesn't work!\n",
    "import warnings\n",
    "warnings.filterwarnings('ignore', category=DeprecationWarning)\n",
    "\n",
    "#compute cores to use - should not be greater than 8\n",
    "cores=48\n",
    "\n",
    "from IPython.display import Image"
   ]
  },
  {
   "cell_type": "markdown",
   "id": "b2bac48b",
   "metadata": {},
   "source": [
    "# Reminder\n",
    "\n",
    "This slide is taken from Thorsten's introdcution - it shows what we expected to see."
   ]
  },
  {
   "cell_type": "code",
   "execution_count": null,
   "id": "cc16cfc9",
   "metadata": {},
   "outputs": [],
   "source": [
    "Image(f\"/home/jupyter-{user}/student_projects_2022/data/images/KeynoteSlide.jpg\")"
   ]
  },
  {
   "cell_type": "markdown",
   "id": "48117196",
   "metadata": {},
   "source": [
    "## Time Saving\n",
    "\n",
    "Some steps in this workbook have been precomputed. All the code is here, but we have saved time on some of the steps!"
   ]
  },
  {
   "cell_type": "markdown",
   "id": "b1937d11",
   "metadata": {},
   "source": [
    "## Required Files\n",
    "\n",
    "We are going to need some reference files to map our data too. We will use various references.\n",
    "\n",
    "The first (called \"reference\") is the Hmed an Hvol genomes combined.\n",
    "\n",
    "The second (called \"reference2\") is just the Hmed genome sequence.\n",
    "\n",
    "The third is the Hvol chromosome sequence. \n",
    "\n",
    "The final is the Hmed and Hvol sequences including all plasmids. \n",
    "\n",
    "These are set up in the cell below:"
   ]
  },
  {
   "cell_type": "code",
   "execution_count": null,
   "id": "387d48ac",
   "metadata": {},
   "outputs": [],
   "source": [
    "reference = \"~/student_projects_2022/data/refs/merged_refs.fasta\"\n",
    "reference_index = \"~/student_projects_2022/data/refs/merged_refs.fasta.fai\"\n",
    "\n",
    "reference2 = \"~/student_projects_2022/data/refs/Hmed_Chr_CP001868.2.fasta\"\n",
    "reference2_index = \"~/student_projects_2022/data/refs/Hmed_Chr_CP001868.2.fasta.fai\"\n",
    "\n",
    "reference3 = \"~/student_projects_2022/data/refs/Hvol_Chr_NC_013967.1.fasta\"\n",
    "reference3_index = \"~/student_projects_2022/data/refs/Hvol_Chr_NC_013967.1.fasta.fai\"\n",
    "\n",
    "reference4 = \"~/student_projects_2022/data/refs/HBoth.fasta\"\n",
    "reference4_index = \"~/student_projects_2022/data/refs/HBoth.fasta.fai\""
   ]
  },
  {
   "cell_type": "markdown",
   "id": "890acbb7",
   "metadata": {},
   "source": [
    "## Data Summaries and Analysis\n",
    "\n",
    "We need to know a little bit about the data set that you have obtained for your sample.\n",
    "\n",
    "First you need to tell the computer which barcode you want to look at. We will store this in a variable called \"barcode\".\n",
    "\n",
    "Fill in the value of your barcode in the cell below. This needs to be a two digit number - e.g. one of:\n",
    "\n",
    "01\n",
    "02\n",
    "03\n",
    "04\n",
    "05\n",
    "06\n",
    "07\n",
    "08\n",
    "09\n",
    "10\n",
    "\n",
    "As a reminder, the samples were assigned as follows:\n",
    "\n",
    "JK Barcode01\n",
    "\n",
    "JR Barcode02\n",
    "\n",
    "AM\tBarcode03\n",
    "\n",
    "LH\tBarcode04\n",
    "\n",
    "JO\tBarcode05\n",
    "\n",
    "EH\tBarcode06\n",
    "\n",
    "IT\tBarcode07\n",
    "\n",
    "GT\tBarcode08\n",
    "\n",
    "Parent01\tBarcode09\n",
    "\n",
    "Parent02\tBarcode10\n",
    "\n"
   ]
  },
  {
   "cell_type": "code",
   "execution_count": null,
   "id": "d214e413",
   "metadata": {},
   "outputs": [],
   "source": [
    "barcode=\"09\""
   ]
  },
  {
   "cell_type": "markdown",
   "id": "64cc4afe",
   "metadata": {},
   "source": [
    "We have pregrouped the read data in the folders below so we can find your reads by creating a new variable called reads like this."
   ]
  },
  {
   "cell_type": "code",
   "execution_count": null,
   "id": "88b83258",
   "metadata": {},
   "outputs": [],
   "source": [
    "reads = f\"~/student_projects_2022/data/IC_199/*/*/fastq_pass/barcode{barcode}/*.fastq.gz\""
   ]
  },
  {
   "cell_type": "markdown",
   "id": "1d62d3c3",
   "metadata": {},
   "source": [
    "We also need to create a few output file names that we can use in the rest of the code.\n",
    "\n",
    "We are going to map our reads in a few different ways. Firstly we will map them to both reference genomes and then each genome individually.\n",
    "\n",
    "For each mapping we need to create a bam file that describes the reads - to do this we name the file with the barcode number you are using for your analysis."
   ]
  },
  {
   "cell_type": "code",
   "execution_count": null,
   "id": "cebacf67",
   "metadata": {},
   "outputs": [],
   "source": [
    "sort_barcode_bam = f\"~/student_projects_2022/data/precomputed/bams/sorted_{barcode}_out.bam\"\n",
    "sort_barcode_bam_hmed = f\"~/student_projects_2022/data/precomputed/bams/sorted_{barcode}_out_hmed.bam\"\n",
    "sort_barcode_bam_hvol = f\"~/student_projects_2022/data/precomputed/bams/sorted_{barcode}_out_hvol.bam\"\n",
    "\n",
    "sort_barcode_bam_igv = f\"student_projects_2022/data/precomputed/bams/sorted_{barcode}_out.bam\"\n",
    "sort_barcode_bam_hmed_igv = f\"student_projects_2022/data/precomputed/bams/sorted_{barcode}_out_hmed.bam\"\n",
    "sort_barcode_bam_hvol_igv = f\"student_projects_2022/data/precomputed/bams/sorted_{barcode}_out_hvol.bam\""
   ]
  },
  {
   "cell_type": "markdown",
   "id": "2c0aa8a7",
   "metadata": {},
   "source": [
    "### Using LAST\n",
    "\n",
    "As we saw last time, LAST is more useful mapper for us than minimap2 for this experiment. We therefore need to make our last reference database for each of our genomes.\n",
    "\n",
    "This step is quite slow. Therefore we have precomputed these and instead we will just load the references. The first four lines would have been used to generate the references usually."
   ]
  },
  {
   "cell_type": "code",
   "execution_count": null,
   "id": "4e58a3fd",
   "metadata": {},
   "outputs": [],
   "source": [
    "#!lastdb -uNEAR ~/student_projects_2022/data/refs/halodb $reference\n",
    "#!lastdb -uNEAR ~/student_projects_2022/data/refs/hmeddb $reference2\n",
    "#!lastdb -uNEAR ~/student_projects_2022/data/refs/hvoldb $reference3\n",
    "#!lastdb -uNEAR ~/student_projects_2022/data/refs/hmedalldb $reference4\n",
    "halodb=\"~/student_projects_2022/data/refs/halodb\"\n",
    "hmeddb=\"~/student_projects_2022/data/refs/hmeddb\"\n",
    "hvoldb=\"~/student_projects_2022/data/refs/hvoldb\"\n",
    "halldb=\"~/student_projects_2022/data/refs/hmedalldb\"\n"
   ]
  },
  {
   "cell_type": "markdown",
   "id": "b7119c43",
   "metadata": {},
   "source": [
    "### What are our databases?\n",
    "\n",
    "halodb is both reference genomes.\n",
    "\n",
    "hmeddb is just the H med reference.\n",
    "\n",
    "hvoldb is just the H vol reference.\n",
    "\n",
    "halldb is the complete reference genomes combined including all plasmids."
   ]
  },
  {
   "cell_type": "markdown",
   "id": "64a463cb",
   "metadata": {},
   "source": [
    "### Training Last\n",
    "The last aligner can be run with lots of different parameters - choosing the correct ones is challenging. So the authors of the aligner have provided a way for us to be able to work out the parameters with training.\n",
    "\n",
    "The cell below will train the last aligner using your reads for each of the two databases we need to look at. This bit is slow if you have a lot of data. Therefore we have precomputed these again."
   ]
  },
  {
   "cell_type": "code",
   "execution_count": null,
   "id": "e0d563ca",
   "metadata": {},
   "outputs": [],
   "source": [
    "#!last-train -P $cores -Q1 $halodb $reads > train.out\n",
    "#!last-train -P $cores -Q1 $hmeddb $reads > train_hmed.out\n",
    "#!last-train -P $cores -Q1 $hvoldb $reads > train_hvol.out\n",
    "#!last-train -P $cores -Q1 $halldb $reads > train_hmedall.out\n",
    "train = \"~/student_projects_2022/data/precomputed/train/train.out\"\n",
    "trainmed = \"~/student_projects_2022/data/precomputed/train/train_hmed.out\"\n",
    "trainvol = \"~/student_projects_2022/data/precomputed/train/train_hvol.out\"\n",
    "trainall = \"~/student_projects_2022/data/precomputed/train/train_hmedall.out\"\n"
   ]
  },
  {
   "cell_type": "markdown",
   "id": "24979d69",
   "metadata": {},
   "source": [
    "### Mapping\n",
    "\n",
    "A problem with the data we are looking at here is that we expect some of our reads to map to both genomes - these are the reads we are really interested in! These reads are the \"recombinants\". To find these we are going to use a tool called last-split. last-split finds the optimal mapping for each section of a read.\n",
    "\n",
    "First off we will map our reads to the genomes using last and have a look at the output.\n",
    "\n",
    "This command does a lot of things!\n",
    "\n",
    "lastal. It aligns the reads to the halodb using the training information we generated earlier. It passes the output of this to the next program through a 'pipe' - the 'pipe' is the \"|\" character.\n",
    "last-split - splits the outputs it gets from the aligner into the best ones for each genome and then pipes it's output to:\n",
    "maf-convert - this program converts the maf output file from last into a samtools file which is then piped into:\n",
    "samtools view - this is tricky. This samtools command is adding essential information about the reference into the bam file which is then piped into:\n",
    "samtools sort - we've used this before - we want to sort our alignments along the genome.\n",
    "\n"
   ]
  },
  {
   "cell_type": "markdown",
   "id": "3bcb00ad",
   "metadata": {},
   "source": [
    "#### Aligning to both genomes.\n",
    "\n",
    "Again, this step is computationally expensive, so it's been pre done for you."
   ]
  },
  {
   "cell_type": "code",
   "execution_count": null,
   "id": "1f2fd799",
   "metadata": {},
   "outputs": [],
   "source": [
    "#!lastal -P $cores --split -p $trainall $halldb $reads | last-split | maf-convert sam - | samtools view -bt $reference4_index | samtools sort -@16 -o $sort_barcode_bam"
   ]
  },
  {
   "cell_type": "markdown",
   "id": "453bd9fc",
   "metadata": {},
   "source": [
    "Finally we need to index our bam file so we can analyse it further."
   ]
  },
  {
   "cell_type": "code",
   "execution_count": null,
   "id": "ea6eeb33",
   "metadata": {},
   "outputs": [],
   "source": [
    "#!samtools index $sort_barcode_bam"
   ]
  },
  {
   "cell_type": "markdown",
   "id": "91092b69",
   "metadata": {},
   "source": [
    "## Aligning to just the med genome."
   ]
  },
  {
   "cell_type": "code",
   "execution_count": null,
   "id": "4d6f6e0e",
   "metadata": {},
   "outputs": [],
   "source": [
    "#!lastal -P $cores -p train_hmed.out $hmeddb $reads | last-split | maf-convert sam - | samtools view -bt $reference2_index | samtools sort -@16 -o $sort_barcode_bam_hmed"
   ]
  },
  {
   "cell_type": "markdown",
   "id": "82a76136",
   "metadata": {},
   "source": [
    "Finally we need to index our bam file so we can analyse it further."
   ]
  },
  {
   "cell_type": "code",
   "execution_count": null,
   "id": "33529bf8",
   "metadata": {},
   "outputs": [],
   "source": [
    "#!samtools index $sort_barcode_bam_hmed"
   ]
  },
  {
   "cell_type": "markdown",
   "id": "d2c847b7",
   "metadata": {},
   "source": [
    "## Aligning to just the H. vol genome."
   ]
  },
  {
   "cell_type": "code",
   "execution_count": null,
   "id": "ecc6d8c3",
   "metadata": {},
   "outputs": [],
   "source": [
    "#!lastal -P $cores -p train_hvol.out $hvoldb $reads | last-split | maf-convert sam - | samtools view -bt $reference3_index | samtools sort -@16 -o $sort_barcode_bam_hvol"
   ]
  },
  {
   "cell_type": "markdown",
   "id": "7f57a176",
   "metadata": {},
   "source": [
    "Finally we need to index our bam file so we can analyse it further."
   ]
  },
  {
   "cell_type": "code",
   "execution_count": null,
   "id": "ad69167c",
   "metadata": {},
   "outputs": [],
   "source": [
    "#!samtools index $sort_barcode_bam_hvol"
   ]
  },
  {
   "cell_type": "markdown",
   "id": "76715834",
   "metadata": {},
   "source": [
    "Having done all of this, we should be able to generate some stats about our data!"
   ]
  },
  {
   "cell_type": "markdown",
   "id": "e942a4d4",
   "metadata": {},
   "source": [
    "### Statistics for mapping to both genomes.\n",
    "\n",
    "These statistics are not expensive to calculate - so we will calculate them now!"
   ]
  },
  {
   "cell_type": "code",
   "execution_count": null,
   "id": "139889c5",
   "metadata": {},
   "outputs": [],
   "source": [
    "# run the alignment summarizer program\n",
    "!stats_from_bam $sort_barcode_bam > sorted.reads_reference.bam.stats\n",
    "\n",
    "\n",
    "df = pd.read_csv(\"sorted.reads_reference.bam.stats\", sep=\"\\t\")\n",
    "\n",
    "p1 = histogram(\n",
    "    [df['read_length']], title=\"Read lengths\",\n",
    "    x_axis_label=\"read length / bases\", y_axis_label=\"count\",bins=100)\n",
    "p1.xaxis.formatter.use_scientific = False\n",
    "p2 = histogram(\n",
    "    [df['acc']], title=\"Read accuracy\",\n",
    "    x_axis_label=\"% accuracy\", y_axis_label=\"count\",bins=100)\n",
    "aplanat.show(gridplot((p1, p2), ncols=2))\n",
    "\n",
    "\n",
    "summary = graphics.InfoGraphItems()\n",
    "summary.append(label='Total reads', value=len(df.name.unique()), icon='angle-up', unit='')\n",
    "summary.append('Total yield', df.drop_duplicates(subset=[\"name\"], keep='first').read_length.sum(), 'signal', 'b')\n",
    "summary.append('Mean read length', df.drop_duplicates(subset=[\"name\"], keep='first').read_length.sum()/len(df.name.unique()), 'align-center', 'b')\n",
    "summary.append('Mean read identity', df.iden.mean(), 'check')\n",
    "summary.append('Mean read accuracy', df.acc.mean(), 'check')\n",
    "plot = graphics.infographic(summary.values())\n",
    "aplanat.show(plot, background='#f4f4f4')"
   ]
  },
  {
   "cell_type": "markdown",
   "id": "e6877ab0",
   "metadata": {},
   "source": [
    "### Statistics for mapping just to H Vol."
   ]
  },
  {
   "cell_type": "code",
   "execution_count": null,
   "id": "c715b2b7",
   "metadata": {},
   "outputs": [],
   "source": [
    "# run the alignment summarizer program\n",
    "!stats_from_bam $sort_barcode_bam_hvol > sorted.reads_reference_hvol.bam.stats\n",
    "\n",
    "\n",
    "df = pd.read_csv(\"sorted.reads_reference_hvol.bam.stats\", sep=\"\\t\")\n",
    "\n",
    "p1 = histogram(\n",
    "    [df['read_length']], title=\"Read lengths\",\n",
    "    x_axis_label=\"read length / bases\", y_axis_label=\"count\",bins=100)\n",
    "p1.xaxis.formatter.use_scientific = False\n",
    "p2 = histogram(\n",
    "    [df['acc']], title=\"Read accuracy\",\n",
    "    x_axis_label=\"% accuracy\", y_axis_label=\"count\",bins=100)\n",
    "aplanat.show(gridplot((p1, p2), ncols=2))\n",
    "\n",
    "\n",
    "summary = graphics.InfoGraphItems()\n",
    "summary.append(label='Total reads', value=len(df.name.unique()), icon='angle-up', unit='')\n",
    "summary.append('Total yield', df.drop_duplicates(subset=[\"name\"], keep='first').read_length.sum(), 'signal', 'b')\n",
    "summary.append('Mean read length', df.drop_duplicates(subset=[\"name\"], keep='first').read_length.sum()/len(df.name.unique()), 'align-center', 'b')\n",
    "summary.append('Mean read identity', df.iden.mean(), 'check')\n",
    "summary.append('Mean read accuracy', df.acc.mean(), 'check')\n",
    "plot = graphics.infographic(summary.values())\n",
    "aplanat.show(plot, background='#f4f4f4')"
   ]
  },
  {
   "cell_type": "markdown",
   "id": "47c95110",
   "metadata": {},
   "source": [
    "Why has this changed?"
   ]
  },
  {
   "cell_type": "markdown",
   "id": "dd52a867",
   "metadata": {},
   "source": [
    "### Mapping just to H Med Genome."
   ]
  },
  {
   "cell_type": "code",
   "execution_count": null,
   "id": "742be711",
   "metadata": {},
   "outputs": [],
   "source": [
    "# run the alignment summarizer program\n",
    "!stats_from_bam $sort_barcode_bam_hmed > sorted.reads_reference_hmed.bam.stats\n",
    "\n",
    "\n",
    "df = pd.read_csv(\"sorted.reads_reference_hmed.bam.stats\", sep=\"\\t\")\n",
    "\n",
    "p1 = histogram(\n",
    "    [df['read_length']], title=\"Read lengths\",\n",
    "    x_axis_label=\"read length / bases\", y_axis_label=\"count\",bins=100)\n",
    "p1.xaxis.formatter.use_scientific = False\n",
    "p2 = histogram(\n",
    "    [df['acc']], title=\"Read accuracy\",\n",
    "    x_axis_label=\"% accuracy\", y_axis_label=\"count\",bins=100)\n",
    "aplanat.show(gridplot((p1, p2), ncols=2))\n",
    "\n",
    "\n",
    "summary = graphics.InfoGraphItems()\n",
    "summary.append(label='Total reads', value=len(df.name.unique()), icon='angle-up', unit='')\n",
    "summary.append('Total yield', df.drop_duplicates(subset=[\"name\"], keep='first').read_length.sum(), 'signal', 'b')\n",
    "summary.append('Mean read length', df.drop_duplicates(subset=[\"name\"], keep='first').read_length.sum()/len(df.name.unique()), 'align-center', 'b')\n",
    "summary.append('Mean read identity', df.iden.mean(), 'check')\n",
    "summary.append('Mean read accuracy', df.acc.mean(), 'check')\n",
    "plot = graphics.infographic(summary.values())\n",
    "aplanat.show(plot, background='#f4f4f4')"
   ]
  },
  {
   "cell_type": "markdown",
   "id": "bea63161",
   "metadata": {},
   "source": [
    "\n",
    "\n",
    "## What now?\n",
    "\n",
    "Again - why has this changed?"
   ]
  },
  {
   "cell_type": "markdown",
   "id": "104a6de5",
   "metadata": {},
   "source": [
    "# Do we have recombinants?\n",
    "Now we are going to look at coverage with the tool mosdepth to see if we can see our recombinants."
   ]
  },
  {
   "cell_type": "markdown",
   "id": "fd5f9883",
   "metadata": {},
   "source": [
    "Firstly we need to define a file name for our data."
   ]
  },
  {
   "cell_type": "code",
   "execution_count": null,
   "id": "1649cc10",
   "metadata": {},
   "outputs": [],
   "source": [
    "barcode_cov = f\"last_barcode{barcode}_cov\""
   ]
  },
  {
   "cell_type": "markdown",
   "id": "074e0e7c",
   "metadata": {},
   "source": [
    "Now we use a program called mosdepth to calculate how many reads map to each position of each genome."
   ]
  },
  {
   "cell_type": "code",
   "execution_count": null,
   "id": "ef0653c5",
   "metadata": {},
   "outputs": [],
   "source": [
    "!mosdepth -n --fast-mode --by 10 $barcode_cov $sort_barcode_bam"
   ]
  },
  {
   "cell_type": "markdown",
   "id": "0e3456ae",
   "metadata": {},
   "source": [
    "Finally we use some code to plot the coverage for the large chromosomes."
   ]
  },
  {
   "cell_type": "code",
   "execution_count": null,
   "id": "1d7c2bd6",
   "metadata": {
    "scrolled": false
   },
   "outputs": [],
   "source": [
    "cumulative_depth = pd.read_csv(\n",
    "    f'{barcode_cov}.mosdepth.region.dist.txt', sep='\\t',\n",
    "    names=['ref', 'depth', 'proportion'])\n",
    "\n",
    "binned_depth = pd.read_csv(\n",
    "    f'{barcode_cov}.regions.bed.gz', sep='\\t',\n",
    "    names=['ref', 'start', 'end', 'depth'])\n",
    "\n",
    "def make_coverage_plot(cumulative_depth, binned_depth):\n",
    "    # Plot the proportion of the genome at coverage levels\n",
    "    p1 = steps(\n",
    "        [cumulative_depth[cumulative_depth['ref'].eq('NC_013967.1')]['depth']],\n",
    "        [cumulative_depth[cumulative_depth['ref'].eq('NC_013967.1')]['proportion']],\n",
    "        colors=['darkolivegreen'],\n",
    "        x_axis_label='Depth of coverage',\n",
    "        y_axis_label='Proportion of genome at coverage',\n",
    "        title=\"NC_013967.1 Haloferax volcanii DS2, complete sequence\")\n",
    "    \n",
    "    # Plot the binned coverage levels across the genome\n",
    "    \n",
    "    p2 = steps(\n",
    "        [binned_depth[binned_depth['ref'].eq('NC_013967.1')]['start']],\n",
    "        [binned_depth[binned_depth['ref'].eq('NC_013967.1')]['depth']],\n",
    "        colors=['darkolivegreen'],\n",
    "        x_axis_label='Position along reference',\n",
    "        y_axis_label='sequencing depth / bases',\n",
    "        title=\"NC_013967.1 Haloferax volcanii DS2, complete sequence\")\n",
    "    p2.xaxis.formatter.use_scientific = False\n",
    "    \n",
    "    p3 = steps(\n",
    "        [cumulative_depth[cumulative_depth['ref'].eq(\"CP001868.2\")]['depth']],\n",
    "        [cumulative_depth[cumulative_depth['ref'].eq(\"CP001868.2\")]['proportion']],\n",
    "        colors=['darkblue'],\n",
    "        x_axis_label='Depth of coverage',\n",
    "        y_axis_label='Proportion of genome at coverage',\n",
    "        title=\"CP001868.2 Haloferax mediterranei ATCC 33500, complete sequence\")\n",
    "\n",
    "    \n",
    "    # Plot the binned coverage levels across the genome\n",
    "    \n",
    "    p4 = steps(\n",
    "        [binned_depth[binned_depth['ref'].eq(\"CP001868.2\")]['start']],\n",
    "        [binned_depth[binned_depth['ref'].eq(\"CP001868.2\")]['depth']],\n",
    "        colors=['darkblue'],\n",
    "        x_axis_label='Position along reference',\n",
    "        y_axis_label='sequencing depth / bases',\n",
    "        title=\"CP001868.2 Haloferax mediterranei ATCC 33500, complete sequence\")\n",
    "    p4.xaxis.formatter.use_scientific = False\n",
    "    return gridplot((p1, p2,p3,p4), ncols=2)\n",
    "\n",
    "aplanat.show(make_coverage_plot(cumulative_depth, binned_depth), background=\"#ffffff\")"
   ]
  },
  {
   "cell_type": "markdown",
   "id": "7273a60f",
   "metadata": {},
   "source": [
    "# Think\n",
    "\n",
    "Why does our coverage look different here? What are the spikes in coverage? Why are the results different to our simulated data?\n",
    "\n",
    "## Viewing the alignments\n",
    "\n",
    "Now we will use IGV to look at the alignments in more detail.\n",
    "\n",
    "Run the code below and use it to highlight regions of the genome and - specifically - the genes where the recombination events are occurring.\n",
    "\n",
    "You can view two regions of a genome at once by entering the coordinates like this:\n",
    "\n",
    "\"CP001868.2:480,000-490,000 CP001868.2:850,000-860,000\" \n",
    "\n",
    "or if you want to be really flash:\n",
    "\n",
    "\"CP001868.2:405,000-415,000 NC_013967.1:420,000-430,000 NC_013967.1:785000-795000 CP001868.2:800,000-805,000\"\n",
    "\n"
   ]
  },
  {
   "cell_type": "markdown",
   "id": "f9d2e6d5",
   "metadata": {},
   "source": [
    "So you need to find the coordinates on each genome where it switches from one to another. You can enter them below:"
   ]
  },
  {
   "cell_type": "code",
   "execution_count": null,
   "id": "9994c795",
   "metadata": {},
   "outputs": [],
   "source": [
    "CP1=278000\n",
    "CP2=280000\n",
    "CP3=770000\n",
    "CP4=780000\n",
    "NC1=278000\n",
    "NC2=280000\n",
    "NC3=760000\n",
    "NC4=780000"
   ]
  },
  {
   "cell_type": "code",
   "execution_count": null,
   "id": "63c1daee",
   "metadata": {},
   "outputs": [],
   "source": [
    "print (f\"CP001868.2:{CP1}-{CP2} NC_013967.1:{NC1}-{NC2} NC_013967.1:{NC3}-{NC4} CP001868.2:{CP3}-{CP4}\")"
   ]
  },
  {
   "cell_type": "code",
   "execution_count": null,
   "id": "597750e9",
   "metadata": {
    "scrolled": false
   },
   "outputs": [],
   "source": [
    "import os\n",
    "user = os.getenv('JUPYTERHUB_USER')\n",
    "\n",
    "url=f\"http://10.157.200.14/user/{user}/tree/\"\n",
    "bams={'results':sort_barcode_bam_igv}\n",
    "track_list=[\n",
    "                  {\n",
    "                    \"name\": \"HMerge\",\n",
    "                    \"url\": url+\"student_projects_2022/data/refs/merge.gff3\",\n",
    "                    \"format\": \"gff3\",\n",
    "                    \"type\": \"annotation\",\n",
    "                    \"displayMode\": \"expanded\",\n",
    "                    \"height\":120,\n",
    "                    \"indexed\": False\n",
    "                  },\n",
    "                \n",
    "            ]\n",
    "\n",
    "colors=['orange','green','gray']\n",
    "i=0\n",
    "for b in bams:\n",
    "    d = {\"name\": b,\n",
    "        \"url\":url+bams[b],\n",
    "        \"indexURL\":url+bams[b]+\".bai\",\n",
    "        \"type\": \"alignment\",\n",
    "         \"displayMode\":\"SQUISHED\",\n",
    "         \"height\":800,\n",
    "         \"showInsertions\":False,\n",
    "         #\"removable\":True,\n",
    "         #\"color\":colors[i],\n",
    "        #\"indexed\": True \n",
    "        }\n",
    "    track_list.append(d)\n",
    "    i+=1\n",
    "\n",
    "igv_browser= igv_notebook.Browser(\n",
    "    {\n",
    "        \"reference\": {\n",
    "                \"name\": \"merged_refs\",   \n",
    "                \"fastaURL\": url+'student_projects_2022/data/refs/merged_refs.fasta',\n",
    "                \"indexURL\": url+ 'student_projects_2022/data/refs/merged_refs.fasta.fai'\n",
    "        },\n",
    "        \"tracks\": track_list,\n",
    "        #\"locus\":f\"CP001868.2:{CP1}-{CP2} NC_013967.1:{NC1}-{NC2} NC_013967.1:{NC3}-{NC4} CP001868.2:{CP3}-{CP4}\",\n",
    "    }\n",
    ")"
   ]
  },
  {
   "cell_type": "markdown",
   "id": "ec240595",
   "metadata": {},
   "source": [
    "## List Your Identified Genes\n",
    "\n",
    "You should find four genes - one at each end of the recombination event for each genome. We will call these CP_Left, CP_Right, NC_Left and NC_Right.\n",
    "\n",
    "Complete the cell below with the relevant information. You must leave in the quotes and copy the gene names exactly up to the first full stop. So HFX_0896.mRNA.0 will become \"HFX_0896\""
   ]
  },
  {
   "cell_type": "code",
   "execution_count": null,
   "id": "32e3e98a",
   "metadata": {},
   "outputs": [],
   "source": [
    "CP_Left=\"HFX_0494\"\n",
    "CP_Right=\"HFX_0828\"\n",
    "NC_Left=\"HVO_0522\"\n",
    "NC_Right=\"HVO_0859\""
   ]
  },
  {
   "cell_type": "markdown",
   "id": "61a9a6e8",
   "metadata": {},
   "source": [
    "## What are these genes?\n",
    "\n",
    "To find what these genes are, we need to look for them in the annotation files for the genomes. We can find this information from the annotation file used to label the IGV plot above.\n"
   ]
  },
  {
   "cell_type": "code",
   "execution_count": null,
   "id": "2c061ce8",
   "metadata": {},
   "outputs": [],
   "source": [
    "!grep $CP_Left ~/student_projects_2022/data/refs/merge.gff3"
   ]
  },
  {
   "cell_type": "code",
   "execution_count": null,
   "id": "70d34a1e",
   "metadata": {},
   "outputs": [],
   "source": [
    "!grep $CP_Right ~/student_projects_2022/data/refs/merge.gff3"
   ]
  },
  {
   "cell_type": "code",
   "execution_count": null,
   "id": "577642a2",
   "metadata": {},
   "outputs": [],
   "source": [
    "!grep $NC_Left ~/student_projects_2022/data/refs/merge.gff3"
   ]
  },
  {
   "cell_type": "code",
   "execution_count": null,
   "id": "fc0d0504",
   "metadata": {},
   "outputs": [],
   "source": [
    "!grep $NC_Right ~/student_projects_2022/data/refs/merge.gff3"
   ]
  },
  {
   "cell_type": "markdown",
   "id": "413e5860",
   "metadata": {},
   "source": [
    "For some of these files we can see what they are by looking at the product name. Others are hypothetical proteins. To identify the hypothetical proteins, we need to get the sequence so we can analyse them.\n",
    "\n",
    "To do this, we will use a tool called GFF3Toolkit.\n"
   ]
  },
  {
   "cell_type": "code",
   "execution_count": null,
   "id": "3074c492",
   "metadata": {
    "scrolled": true
   },
   "outputs": [],
   "source": [
    "!gff3_to_fasta -g ~/student_projects_2022/data/refs/merge.gff3 -f $reference -st cds -o test_genes -d complex"
   ]
  },
  {
   "cell_type": "code",
   "execution_count": null,
   "id": "7ca71f4a",
   "metadata": {},
   "outputs": [],
   "source": [
    "!grep pyrE2 ~/student_projects_2022/data/refs/merge.gff3"
   ]
  },
  {
   "cell_type": "code",
   "execution_count": null,
   "id": "46ed5761",
   "metadata": {},
   "outputs": [],
   "source": [
    "!grep -A1 $CP_Right ~/haloferax_2022/test_genes_cds.fa"
   ]
  },
  {
   "cell_type": "code",
   "execution_count": null,
   "id": "d122c46e",
   "metadata": {},
   "outputs": [],
   "source": [
    "!grep -A1 $NC_Right ~/haloferax_2022/test_genes_cds.fa"
   ]
  },
  {
   "cell_type": "markdown",
   "id": "9ee261da",
   "metadata": {},
   "source": [
    "## Now lets look at the alignment with respect to just one genome.\n",
    "\n",
    "Again we will use IGV but we will just look at the reads with respect to one genome.\n",
    "\n",
    "### Hmed"
   ]
  },
  {
   "cell_type": "code",
   "execution_count": null,
   "id": "6bda0e02",
   "metadata": {},
   "outputs": [],
   "source": [
    "print (f\"Hmed_Chr_CP001868.2:{CP1}-{CP2} Hmed_Chr_CP001868.2:{CP3}-{CP4}\")"
   ]
  },
  {
   "cell_type": "code",
   "execution_count": null,
   "id": "c0f264c5",
   "metadata": {},
   "outputs": [],
   "source": [
    "import os\n",
    "user = os.getenv('JUPYTERHUB_USER')\n",
    "\n",
    "url=f\"http://10.157.200.14/user/{user}/tree/\"\n",
    "bams={'results':sort_barcode_bam_hmed_igv}\n",
    "track_list=[\n",
    "                  {\n",
    "                    \"name\": \"HMerge\",\n",
    "                    \"url\": url+\"student_projects_2022/data/refs/Hmed.gff3\",\n",
    "                    \"format\": \"gff3\",\n",
    "                    \"type\": \"annotation\",\n",
    "                    \"displayMode\": \"expanded\",\n",
    "                    \"height\":120,\n",
    "                    \"indexed\": False\n",
    "                  },\n",
    "                \n",
    "            ]\n",
    "\n",
    "colors=['orange','green','gray']\n",
    "i=0\n",
    "for b in bams:\n",
    "    d = {\"name\": b,\n",
    "        \"url\":url+bams[b],\n",
    "        \"indexURL\":url+bams[b]+\".bai\",\n",
    "        \"type\": \"alignment\",\n",
    "         \"displayMode\":\"SQUISHED\",\n",
    "         \"height\":800,\n",
    "         \"showInsertions\":False,\n",
    "         #\"removable\":True,\n",
    "         #\"color\":colors[i],\n",
    "        #\"indexed\": True \n",
    "        }\n",
    "    track_list.append(d)\n",
    "    i+=1\n",
    "\n",
    "igv_browser= igv_notebook.Browser(\n",
    "    {\n",
    "        \"reference\": {\n",
    "                \"name\": \"Hmed\",   \n",
    "                \"fastaURL\": url+'student_projects_2022/data/refs/Hmed_Chr_CP001868.2.fasta',\n",
    "                \"indexURL\": url+ 'student_projects_2022/data/refs/Hmed_Chr_CP001868.2.fasta.fai'\n",
    "        },\n",
    "        \"tracks\": track_list,\n",
    "        #\"locus\":f\"CP001868.2:{CP1}-{CP2} NC_013967.1:{NC1}-{NC2} NC_013967.1:{NC3}-{NC4} CP001868.2:{CP3}-{CP4}\",\n",
    "    }\n",
    ")\n",
    "\n"
   ]
  },
  {
   "cell_type": "markdown",
   "id": "a06942cf",
   "metadata": {},
   "source": [
    "### Hvol"
   ]
  },
  {
   "cell_type": "code",
   "execution_count": null,
   "id": "c3b1f8d5",
   "metadata": {},
   "outputs": [],
   "source": [
    "print (f\"Hvol_Chr_NC_013967.1:{NC1}-{NC2} Hvol_Chr_NC_013967.1:{NC3}-{NC4}\")"
   ]
  },
  {
   "cell_type": "code",
   "execution_count": null,
   "id": "ba4d7276",
   "metadata": {},
   "outputs": [],
   "source": [
    "import os\n",
    "user = os.getenv('JUPYTERHUB_USER')\n",
    "\n",
    "url=f\"http://10.157.200.14/user/{user}/tree/\"\n",
    "bams={'results':sort_barcode_bam_hvol_igv}\n",
    "track_list=[\n",
    "                  {\n",
    "                    \"name\": \"HMerge\",\n",
    "                    \"url\": url+\"student_projects_2022/data/refs/Hvol.gff3\",\n",
    "                    \"format\": \"gff3\",\n",
    "                    \"type\": \"annotation\",\n",
    "                    \"displayMode\": \"expanded\",\n",
    "                    \"height\":120,\n",
    "                    \"indexed\": False\n",
    "                  },\n",
    "                \n",
    "            ]\n",
    "\n",
    "colors=['orange','green','gray']\n",
    "i=0\n",
    "for b in bams:\n",
    "    d = {\"name\": b,\n",
    "        \"url\":url+bams[b],\n",
    "        \"indexURL\":url+bams[b]+\".bai\",\n",
    "        \"type\": \"alignment\",\n",
    "         \"displayMode\":\"SQUISHED\",\n",
    "         \"height\":800,\n",
    "         \"showInsertions\":False,\n",
    "         #\"removable\":True,\n",
    "         #\"color\":colors[i],\n",
    "        #\"indexed\": True \n",
    "        }\n",
    "    track_list.append(d)\n",
    "    i+=1\n",
    "\n",
    "igv_browser= igv_notebook.Browser(\n",
    "    {\n",
    "        \"reference\": {\n",
    "                \"name\": \"Hmed\",   \n",
    "                \"fastaURL\": url+'student_projects_2022/data/refs/Hvol_Chr_NC_013967.1.fasta',\n",
    "                \"indexURL\": url+ 'student_projects_2022/data/refs/Hvol_Chr_NC_013967.1.fasta.fai'\n",
    "        },\n",
    "        \"tracks\": track_list,\n",
    "        #\"locus\":f\"CP001868.2:{CP1}-{CP2} NC_013967.1:{NC1}-{NC2} NC_013967.1:{NC3}-{NC4} CP001868.2:{CP3}-{CP4}\",\n",
    "    }\n",
    ")\n"
   ]
  },
  {
   "cell_type": "markdown",
   "id": "7306054d",
   "metadata": {},
   "source": [
    "### What have you found?\n",
    "\n",
    "At this point, you should have identified two regions in each genome where recombination has occurred. There are lots of questions to ask here. For example - what is shared between these genes? What is the function of the genes? Are these genes still functional? \n",
    "\n",
    "You need to have a think about this going forwards."
   ]
  },
  {
   "cell_type": "markdown",
   "id": "f4472390",
   "metadata": {},
   "source": [
    "### Other options\n",
    "\n",
    "Lets try an assembly."
   ]
  },
  {
   "cell_type": "code",
   "execution_count": null,
   "id": "3a70dc8f",
   "metadata": {},
   "outputs": [],
   "source": [
    "reads = f\"~/student_projects_2022/data/IC_199/*/*/fastq_pass/barcode{barcode}/*.fastq.gz\""
   ]
  },
  {
   "cell_type": "code",
   "execution_count": null,
   "id": "9a3f0c98",
   "metadata": {},
   "outputs": [],
   "source": [
    "assembly_dir=f\"~/student_projects_2022/data/precomputed/assemblies/{barcode}_assembly\"\n",
    "assembly_image_dir=f\"student_projects_2022/data/precomputed/assemblies/{barcode}_assembly\""
   ]
  },
  {
   "cell_type": "markdown",
   "id": "fb6030cc",
   "metadata": {},
   "source": [
    "Assembly is - again - computationally expensive. Therefore we have precomputed the assembly for you."
   ]
  },
  {
   "cell_type": "code",
   "execution_count": null,
   "id": "58d506f4",
   "metadata": {},
   "outputs": [],
   "source": [
    "#!flye --threads $cores --out-dir $assembly_dir --nano-hq $reads"
   ]
  },
  {
   "cell_type": "code",
   "execution_count": null,
   "id": "41cc35a0",
   "metadata": {},
   "outputs": [],
   "source": [
    "maffile = f\"{assembly_dir}/barcode{barcode}.maf\"\n",
    "\n",
    "!lastal --split -P $cores $halldb $assembly_dir/assembly.fasta > $maffile\n"
   ]
  },
  {
   "cell_type": "code",
   "execution_count": null,
   "id": "b87d813d",
   "metadata": {},
   "outputs": [],
   "source": [
    "print (maffile)"
   ]
  },
  {
   "cell_type": "code",
   "execution_count": null,
   "id": "e5bfa927",
   "metadata": {},
   "outputs": [],
   "source": [
    "!grep -B 1 contig_3 $maffile |  tr -s ' ' | cut -f1-6 -d' '\\\n"
   ]
  },
  {
   "cell_type": "code",
   "execution_count": null,
   "id": "00c106ac",
   "metadata": {},
   "outputs": [],
   "source": [
    "mafimage = f\"/home/jupyter-{user}/{assembly_image_dir}/barcode{barcode}.png\"\n",
    "\n",
    "!last-dotplot     -v $maffile $mafimage"
   ]
  },
  {
   "cell_type": "code",
   "execution_count": null,
   "id": "a929f5d7",
   "metadata": {},
   "outputs": [],
   "source": [
    "print (mafimage)"
   ]
  },
  {
   "cell_type": "code",
   "execution_count": null,
   "id": "cef5a801",
   "metadata": {},
   "outputs": [],
   "source": [
    "Image(f\"{mafimage}\")"
   ]
  },
  {
   "cell_type": "markdown",
   "id": "b7c2c1c4",
   "metadata": {},
   "source": [
    "From this, it should be possible to think and work out what may have happened in your experiment."
   ]
  },
  {
   "cell_type": "markdown",
   "id": "e6350de1",
   "metadata": {},
   "source": [
    "### What if my result isn't simple?\n",
    "\n",
    "OK - so you've got this far and things look odd? Maybe it all looks fine... If it doesn't what can you do?\n",
    "\n",
    "First - this is research. We had a prediction - it may or may not be correct.\n",
    "\n",
    "Second - we might be able to do some additional analysis. But to do this we might need to get some sequence data from our assembly.\n",
    "\n",
    "Nothing from here has been precomputed. So it will be a lot slower."
   ]
  },
  {
   "cell_type": "code",
   "execution_count": null,
   "id": "9b794d87",
   "metadata": {},
   "outputs": [],
   "source": [
    "### What sequence do you want to get from your assembly?\n",
    "\n",
    "### Be careful - you do not want to print long sequences to the screen!\n",
    "\n",
    "mysequence = \"contig_1\""
   ]
  },
  {
   "cell_type": "code",
   "execution_count": null,
   "id": "bc012224",
   "metadata": {},
   "outputs": [],
   "source": [
    "import pyfastx"
   ]
  },
  {
   "cell_type": "code",
   "execution_count": null,
   "id": "cb9d5e01",
   "metadata": {},
   "outputs": [],
   "source": [
    "from pathlib import Path"
   ]
  },
  {
   "cell_type": "code",
   "execution_count": null,
   "id": "c7b19b8b",
   "metadata": {},
   "outputs": [],
   "source": [
    "assembly_path = str(Path(f'{assembly_dir}/assembly.fasta').expanduser())"
   ]
  },
  {
   "cell_type": "code",
   "execution_count": null,
   "id": "925a7a81",
   "metadata": {},
   "outputs": [],
   "source": [
    "fa=pyfastx.Fasta(assembly_path)"
   ]
  },
  {
   "cell_type": "code",
   "execution_count": null,
   "id": "95b95b49",
   "metadata": {},
   "outputs": [],
   "source": [
    "fa[mysequence]"
   ]
  },
  {
   "cell_type": "code",
   "execution_count": null,
   "id": "ca6ff03e",
   "metadata": {
    "scrolled": false
   },
   "outputs": [],
   "source": [
    "print (f\">{fa[mysequence].name}\")\n",
    "print (f\"{fa[mysequence].seq[3400000:3401000]}\")"
   ]
  },
  {
   "cell_type": "markdown",
   "id": "a4c92696",
   "metadata": {},
   "source": [
    "Using the code above you can grab any bit of sequence from your assembly you are interested in and analyse it using a tool such as blast to work out what it might be."
   ]
  },
  {
   "cell_type": "markdown",
   "id": "ab688fb0",
   "metadata": {},
   "source": [
    "## Getting sequence from the parental strains."
   ]
  },
  {
   "cell_type": "markdown",
   "id": "3bc9dcd8",
   "metadata": {},
   "source": [
    "We can loook at the two parental strains and try to identify the sequences where recombination has occurred and see if anything interesting has happened in those regions."
   ]
  },
  {
   "cell_type": "markdown",
   "id": "a0d17b94",
   "metadata": {},
   "source": [
    "The sequences can be obtained from the reference."
   ]
  },
  {
   "cell_type": "code",
   "execution_count": null,
   "id": "b641acc9",
   "metadata": {},
   "outputs": [],
   "source": [
    "reference_path = str(Path(f'{reference4}').expanduser())"
   ]
  },
  {
   "cell_type": "code",
   "execution_count": null,
   "id": "1fffeb8f",
   "metadata": {},
   "outputs": [],
   "source": [
    "print (reference_path)"
   ]
  },
  {
   "cell_type": "code",
   "execution_count": null,
   "id": "9ba0f1b6",
   "metadata": {},
   "outputs": [],
   "source": [
    "referencefa=pyfastx.Fasta(reference_path)"
   ]
  },
  {
   "cell_type": "markdown",
   "id": "ec3185c2",
   "metadata": {},
   "source": [
    "Lets get the sequences from the left junction first."
   ]
  },
  {
   "cell_type": "code",
   "execution_count": null,
   "id": "dd034539",
   "metadata": {},
   "outputs": [],
   "source": [
    "print (f\"CP001868.2:{CP1}-{CP2} NC_013967.1:{NC1}-{NC2} NC_013967.1:{NC3}-{NC4} CP001868.2:{CP3}-{CP4}\")"
   ]
  },
  {
   "cell_type": "code",
   "execution_count": null,
   "id": "d926c4a0",
   "metadata": {},
   "outputs": [],
   "source": [
    "seq1=referencefa[\"CP001868.2\"].seq[CP1:CP2]"
   ]
  },
  {
   "cell_type": "code",
   "execution_count": null,
   "id": "dbcb97fd",
   "metadata": {},
   "outputs": [],
   "source": [
    "seq2=referencefa[\"NC_013967.1\"].seq[NC1:NC2]"
   ]
  },
  {
   "cell_type": "markdown",
   "id": "4d994fc3",
   "metadata": {},
   "source": [
    "Do these sequences have any similarity to one another? To answer this we can use blast2seqs to check - go to https://blast.ncbi.nlm.nih.gov/Blast.cgi?BLAST_SPEC=blast2seq&LINK_LOC=align2seq&PAGE_TYPE=BlastSearch and compare the two sequences."
   ]
  },
  {
   "cell_type": "code",
   "execution_count": null,
   "id": "f1aea694",
   "metadata": {
    "scrolled": true
   },
   "outputs": [],
   "source": [
    "print(\">Sequence_1\")\n",
    "print(seq1)"
   ]
  },
  {
   "cell_type": "code",
   "execution_count": null,
   "id": "a26aacea",
   "metadata": {},
   "outputs": [],
   "source": [
    "print(\">Sequence_2\")\n",
    "print(seq2)"
   ]
  },
  {
   "cell_type": "markdown",
   "id": "1f2dbcfc",
   "metadata": {},
   "source": [
    "Now we will get the sequence from the right junction:\\"
   ]
  },
  {
   "cell_type": "code",
   "execution_count": null,
   "id": "2c266d78",
   "metadata": {},
   "outputs": [],
   "source": [
    "referencefa[\"CP001868.2\"].seq[275994-1000:275994+1000]"
   ]
  },
  {
   "cell_type": "code",
   "execution_count": null,
   "id": "706beadc",
   "metadata": {},
   "outputs": [],
   "source": [
    "seq3=referencefa[\"NC_013967.1\"].seq[NC3:NC4]\n",
    "seq4=referencefa[\"CP001868.2\"].seq[CP3:CP4]\n",
    "\n",
    "print(\">Sequence_3\")\n",
    "print(seq3)\n",
    "\n",
    "print(\">Sequence_4\")\n",
    "print(seq4)"
   ]
  },
  {
   "cell_type": "markdown",
   "id": "c8586a22",
   "metadata": {},
   "source": [
    "## Looking at the assembly.\n",
    "\n",
    "We might want to understand the coverage depth on the various elements in the assembly. We can do this by mapping our reads back to our assembly."
   ]
  },
  {
   "cell_type": "code",
   "execution_count": null,
   "id": "08659521",
   "metadata": {},
   "outputs": [],
   "source": [
    "!samtools faidx $assembly_dir/assembly.fasta"
   ]
  },
  {
   "cell_type": "code",
   "execution_count": null,
   "id": "44019386",
   "metadata": {},
   "outputs": [],
   "source": [
    "assembly_index = f\"{assembly_dir}/assembly.fasta.fai\""
   ]
  },
  {
   "cell_type": "code",
   "execution_count": null,
   "id": "6f611cc9",
   "metadata": {},
   "outputs": [],
   "source": [
    "#!lastdb -uNEAR $assembly_dir $assembly_dir/assembly.fasta\n",
    "assembly_db = f\"{assembly_dir}\""
   ]
  },
  {
   "cell_type": "code",
   "execution_count": null,
   "id": "b053d377",
   "metadata": {},
   "outputs": [],
   "source": [
    "#!last-train -P $cores -Q1 $assembly_db $reads > train_assembly.out"
   ]
  },
  {
   "cell_type": "code",
   "execution_count": null,
   "id": "86d223c0",
   "metadata": {},
   "outputs": [],
   "source": [
    "#!lastal -P $cores --split -p train_assembly.out $assembly_db $reads | last-split | maf-convert sam - | samtools view -bt $assembly_index | samtools sort -@16 -o assembly_mapping.bam\n",
    "#!samtools index assembly_mapping.bam"
   ]
  },
  {
   "cell_type": "code",
   "execution_count": null,
   "id": "6e43b618",
   "metadata": {},
   "outputs": [],
   "source": [
    "#!mosdepth -n --fast-mode --by 10 barcode_mapping assembly_mapping.bam"
   ]
  },
  {
   "cell_type": "markdown",
   "id": "7de6bee5",
   "metadata": {},
   "source": [
    "We can look at a summary file of this which will allow us to estimate the abundance of different contigs."
   ]
  },
  {
   "cell_type": "code",
   "execution_count": null,
   "id": "a179be4f",
   "metadata": {},
   "outputs": [],
   "source": [
    "assembly_df=pd.read_csv(\"barcode_mapping.mosdepth.summary.txt\", sep=\"\\t\")\n"
   ]
  },
  {
   "cell_type": "code",
   "execution_count": null,
   "id": "4882b12a",
   "metadata": {},
   "outputs": [],
   "source": [
    "assembly_df[~(assembly_df['chrom'].str.endswith('_region'))]"
   ]
  },
  {
   "cell_type": "markdown",
   "id": "43bd8d07",
   "metadata": {},
   "source": [
    "We can also look at coverage to see if there are any unusual patterns."
   ]
  },
  {
   "cell_type": "code",
   "execution_count": null,
   "id": "e597f217",
   "metadata": {
    "scrolled": false
   },
   "outputs": [],
   "source": [
    "cumulative_depth = pd.read_csv(\n",
    "    f'barcode_mapping.mosdepth.region.dist.txt', sep='\\t',\n",
    "    names=['ref', 'depth', 'proportion'])\n",
    "\n",
    "binned_depth = pd.read_csv(\n",
    "    f'barcode_mapping.regions.bed.gz', sep='\\t',\n",
    "    names=['ref', 'start', 'end', 'depth'])\n",
    "\n",
    "def make_coverage_plot_contig(contig,cumulative_depth, binned_depth):\n",
    "    \n",
    "    \n",
    "    # Plot the binned coverage levels across the genome\n",
    "    \n",
    "    p2 = steps(\n",
    "        [binned_depth[binned_depth['ref'].eq(contig)]['start']],\n",
    "        [binned_depth[binned_depth['ref'].eq(contig)]['depth']],\n",
    "        colors=['darkolivegreen'],\n",
    "        x_axis_label='Position along reference',\n",
    "        y_axis_label='sequencing depth / bases',\n",
    "        title=contig)\n",
    "    p2.xaxis.formatter.use_scientific = False\n",
    "    \n",
    "    \n",
    "    return p2\n",
    "\n",
    "#return gridplot((p1, p2,p3,p4), ncols=2)\n",
    "\n",
    "plotlist=[]\n",
    "for val in binned_depth['ref'].unique():\n",
    "    print(val)\n",
    "    #plotlist.append(make_coverage_plot_contig(val,cumulative_depth,binned_depth))\n",
    "    p2=make_coverage_plot_contig(val,cumulative_depth,binned_depth)\n",
    "    aplanat.show(gridplot((p2,), ncols=1), background=\"#ffffff\")\n",
    "\n",
    "\n"
   ]
  },
  {
   "cell_type": "markdown",
   "id": "30e84428",
   "metadata": {},
   "source": [
    "We can also look at the assemblies in IGV to see if we can learn anything about them!"
   ]
  },
  {
   "cell_type": "code",
   "execution_count": null,
   "id": "a0b734b2",
   "metadata": {},
   "outputs": [],
   "source": [
    "import os\n",
    "user = os.getenv('JUPYTERHUB_USER')\n",
    "\n",
    "url=f\"http://10.157.200.14/user/{user}/tree/haloferax_2022/\"\n",
    "bams={'results':'assembly_mapping.bam'}\n",
    "\n",
    "track_list=[\n",
    "                  {\n",
    "                    \"name\": \"HMerge\",\n",
    "                    \"url\": url+\"student_projects_2022/data/refs/Hvol.gff3\",\n",
    "                    \"format\": \"gff3\",\n",
    "                    \"type\": \"annotation\",\n",
    "                    \"displayMode\": \"expanded\",\n",
    "                    \"height\":120,\n",
    "                    \"indexed\": False\n",
    "                  },\n",
    "                \n",
    "            ]\n",
    "\n",
    "colors=['orange','green','gray']\n",
    "i=0\n",
    "for b in bams:\n",
    "    d = {\"name\": b,\n",
    "        \"url\":url+bams[b],\n",
    "        \"indexURL\":url+bams[b]+\".bai\",\n",
    "        \"type\": \"alignment\",\n",
    "         \"displayMode\":\"SQUISHED\",\n",
    "         \"height\":800,\n",
    "         \"showInsertions\":False,\n",
    "         #\"removable\":True,\n",
    "         #\"color\":colors[i],\n",
    "        #\"indexed\": True \n",
    "        }\n",
    "    track_list.append(d)\n",
    "    i+=1\n",
    "\n",
    "igv_browser= igv_notebook.Browser(\n",
    "    {\n",
    "        \"reference\": {\n",
    "                \"name\": \"Assembly\",   \n",
    "                \"fastaURL\": url+f'{assembly_dir}/assembly.fasta',\n",
    "                \"indexURL\": url+f'{assembly_dir}/assembly.fasta.fai',\n",
    "        },\n",
    "        \"tracks\": track_list,\n",
    "        #\"locus\":f\"CP001868.2:{CP1}-{CP2} NC_013967.1:{NC1}-{NC2} NC_013967.1:{NC3}-{NC4} CP001868.2:{CP3}-{CP4}\",\n",
    "    }\n",
    ")\n",
    "\n"
   ]
  },
  {
   "cell_type": "code",
   "execution_count": null,
   "id": "c002d145",
   "metadata": {},
   "outputs": [],
   "source": []
  },
  {
   "cell_type": "code",
   "execution_count": null,
   "id": "187ee8b4",
   "metadata": {},
   "outputs": [],
   "source": []
  },
  {
   "cell_type": "code",
   "execution_count": null,
   "id": "006ff269",
   "metadata": {},
   "outputs": [],
   "source": []
  },
  {
   "cell_type": "code",
   "execution_count": null,
   "id": "9a312f5d",
   "metadata": {},
   "outputs": [],
   "source": []
  }
 ],
 "metadata": {
  "kernelspec": {
   "display_name": "Python 3 (ipykernel)",
   "language": "python",
   "name": "python3"
  },
  "language_info": {
   "codemirror_mode": {
    "name": "ipython",
    "version": 3
   },
   "file_extension": ".py",
   "mimetype": "text/x-python",
   "name": "python",
   "nbconvert_exporter": "python",
   "pygments_lexer": "ipython3",
   "version": "3.9.0"
  }
 },
 "nbformat": 4,
 "nbformat_minor": 5
}
